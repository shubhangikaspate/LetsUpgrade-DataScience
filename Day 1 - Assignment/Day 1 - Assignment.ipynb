{
 "cells": [
  {
   "cell_type": "markdown",
   "metadata": {},
   "source": [
    "# Assignment Day 1 | 6th November 2020"
   ]
  },
  {
   "cell_type": "markdown",
   "metadata": {},
   "source": [
    "__Questions 1:__\n",
    "\n",
    "Given the following jumbled word, OBANWRI guess the correct English word.\n",
    "\n",
    "A. RANIBOW\n",
    "\n",
    "B. RAINBOW\n",
    "\n",
    "C. BOWRANI\n",
    "\n",
    "D. ROBWANI"
   ]
  },
  {
   "cell_type": "markdown",
   "metadata": {},
   "source": [
    "__Solution:__"
   ]
  },
  {
   "cell_type": "code",
   "execution_count": 1,
   "metadata": {},
   "outputs": [
    {
     "name": "stdout",
     "output_type": "stream",
     "text": [
      "Given options are: \n",
      " A. RANIBOW\n",
      " B. RAINBOW\n",
      " C. BOWRANI\n",
      " D. ROBWANI\n",
      "Jumbled word is: OBANWRI\n",
      "Guess the correct word among the options\n",
      "\n",
      "Your guess: BOWRANI\n",
      "Sorry, that's not correct word...\n",
      "Your guess: RAINBOW\n",
      "That's it, Congratulations! You guessed the correct word!!!\n",
      "\n"
     ]
    }
   ],
   "source": [
    "word=\"OBANWRI\"\n",
    "\n",
    "options = (\"\\n A. RANIBOW\\n B. RAINBOW\\n C. BOWRANI\\n D. ROBWANI\")\n",
    "\n",
    "print(\"Given options are:\", options) \n",
    "print(\"Jumbled word is:\", word)\n",
    "print(\"Guess the correct word among the options\")\n",
    "\n",
    "correct = \"RAINBOW\"\n",
    "\n",
    "guess = input(\"\\nYour guess: \")\n",
    "\n",
    "while guess != correct and guess != \"\":\n",
    "    print(\"Sorry, that's not correct word...\")\n",
    "    guess = input(\"Your guess: \")\n",
    "    \n",
    "if guess == correct:\n",
    "    print(\"That's it, Congratulations! You guessed the correct word!!!\\n\")\n",
    "\n"
   ]
  },
  {
   "cell_type": "markdown",
   "metadata": {},
   "source": [
    "________________"
   ]
  },
  {
   "cell_type": "markdown",
   "metadata": {},
   "source": [
    "__Questions 2:__\n",
    "\n",
    "Write a program which prints “LETS UPGRADE”. (Please note that you have to\n",
    "print in ALL CAPS as given)"
   ]
  },
  {
   "cell_type": "markdown",
   "metadata": {},
   "source": [
    "__Solution:__"
   ]
  },
  {
   "cell_type": "code",
   "execution_count": 2,
   "metadata": {},
   "outputs": [
    {
     "name": "stdout",
     "output_type": "stream",
     "text": [
      "  \"LETS UPGRADE\" \n"
     ]
    }
   ],
   "source": [
    "A = ('  \"lets upgrade\" ')\n",
    "print(A.upper())"
   ]
  },
  {
   "cell_type": "markdown",
   "metadata": {},
   "source": [
    "_______________"
   ]
  },
  {
   "cell_type": "markdown",
   "metadata": {},
   "source": [
    "__Questions 3:__\n",
    "    \n",
    "Write a program that takes cost price and selling price as input and displays whether the transaction is a\n",
    "Profit or a Loss or Neither.\n",
    "\n",
    "INPUT FORMAT\n",
    "\n",
    "The first line contains the cost price.\n",
    "\n",
    "The second line contains the selling price.\n",
    "\n",
    "OUTPUT FORMAT\n",
    "\n",
    "Print \"Profit\" if the transaction is a profit or \"Loss\" if it is a loss. If it is neither\n",
    "\n",
    "profit nor loss, print \"Neither\". (You must not have quotes in your output)"
   ]
  },
  {
   "cell_type": "markdown",
   "metadata": {},
   "source": [
    "__Solution:__"
   ]
  },
  {
   "cell_type": "code",
   "execution_count": 3,
   "metadata": {},
   "outputs": [
    {
     "name": "stdout",
     "output_type": "stream",
     "text": [
      "Case 1 :\n",
      "Input\n",
      "  40\n",
      "  70\n",
      "Output\n",
      "Profit\n"
     ]
    }
   ],
   "source": [
    "# Case 1 :\n",
    "\n",
    "print(\"Case 1 :\")\n",
    "\n",
    "\n",
    "print(\"Input\")\n",
    "CP = float(input(\"  \"))    # CP = Cost Price\n",
    "SP = float(input(\"  \"))    # SP = Selling Price\n",
    "\n",
    "\n",
    "if(CP > SP):\n",
    "    amount = CP - SP\n",
    "    print(\"Output\")\n",
    "    print(\"Loss\".format(amount))\n",
    "\n",
    "elif(SP > CP):\n",
    "    amount = SP - CP\n",
    "    print(\"Output\")\n",
    "    print(\"Profit\".format(amount))\n",
    "\n",
    "else:\n",
    "    print(\"Output\")\n",
    "    print('Neither')\n",
    "\n"
   ]
  },
  {
   "cell_type": "code",
   "execution_count": 5,
   "metadata": {},
   "outputs": [
    {
     "name": "stdout",
     "output_type": "stream",
     "text": [
      "Case 2 :\n",
      "Input\n",
      "  80\n",
      "  70\n",
      "Output\n",
      "Loss\n"
     ]
    }
   ],
   "source": [
    "# Case 2 :\n",
    "\n",
    "print(\"Case 2 :\")\n",
    "\n",
    "\n",
    "print(\"Input\")\n",
    "CP = float(input(\"  \"))    # CP = Cost Price\n",
    "SP = float(input(\"  \"))    # SP = Selling Price\n",
    "\n",
    "\n",
    "if(CP > SP):\n",
    "    amount = CP - SP\n",
    "    print(\"Output\")\n",
    "    print(\"Loss\".format(amount))\n",
    "\n",
    "elif(SP > CP):\n",
    "    amount = SP - CP\n",
    "    print(\"Output\")\n",
    "    print(\"Profit\".format(amount))\n",
    "\n",
    "else:\n",
    "    print(\"Output\")\n",
    "    print('Neither')\n"
   ]
  },
  {
   "cell_type": "code",
   "execution_count": 4,
   "metadata": {},
   "outputs": [
    {
     "name": "stdout",
     "output_type": "stream",
     "text": [
      "Case 3 :\n",
      "Input\n",
      "  40\n",
      "  40\n",
      "Output\n",
      "Neither\n"
     ]
    }
   ],
   "source": [
    "# Case 3 :\n",
    "\n",
    "print(\"Case 3 :\")\n",
    "\n",
    "\n",
    "print(\"Input\")\n",
    "CP = float(input(\"  \"))    # CP = Cost Price\n",
    "SP = float(input(\"  \"))    # SP = Selling Price\n",
    "\n",
    "\n",
    "if(CP > SP):\n",
    "    amount = CP - SP\n",
    "    print(\"Output\")\n",
    "    print(\"Loss\".format(amount))\n",
    "\n",
    "elif(SP > CP):\n",
    "    amount = SP - CP\n",
    "    print(\"Output\")\n",
    "    print(\"Profit\".format(amount))\n",
    "\n",
    "else:\n",
    "    print(\"Output\")\n",
    "    print('Neither')\n"
   ]
  },
  {
   "cell_type": "markdown",
   "metadata": {},
   "source": [
    "________________"
   ]
  },
  {
   "cell_type": "markdown",
   "metadata": {},
   "source": [
    "__Questions 4:__\n",
    "\n",
    "Write a program that takes an amount in Euros as input. You need to find its equivalent in\n",
    "Rupees and display it. Assume 1 Euro equals Rs. 80.\n",
    "\n",
    "Please note that you are expected to stick to the given input and output format as in sample test cases. \n",
    "\n",
    "Please don't add any extra lines such as'Enter a number', etc.\n",
    "\n",
    "Your program should take only one number as input and display the output."
   ]
  },
  {
   "cell_type": "markdown",
   "metadata": {},
   "source": [
    "__Solution:__"
   ]
  },
  {
   "cell_type": "code",
   "execution_count": 7,
   "metadata": {},
   "outputs": [
    {
     "name": "stdout",
     "output_type": "stream",
     "text": [
      "Input\n",
      " 1000\n",
      "Output\n",
      "€ 80000.0\n"
     ]
    }
   ],
   "source": [
    "# Assumed - 1 Euro equals Rs. 80\n",
    "\n",
    "print('Input')\n",
    "Rupees = float(input(\" \"))\n",
    "Euro = Rupees * 80\n",
    "print('Output')\n",
    "print(\"€\", Euro)\n"
   ]
  },
  {
   "cell_type": "markdown",
   "metadata": {},
   "source": [
    "________________"
   ]
  }
 ],
 "metadata": {
  "kernelspec": {
   "display_name": "Python 3",
   "language": "python",
   "name": "python3"
  },
  "language_info": {
   "codemirror_mode": {
    "name": "ipython",
    "version": 3
   },
   "file_extension": ".py",
   "mimetype": "text/x-python",
   "name": "python",
   "nbconvert_exporter": "python",
   "pygments_lexer": "ipython3",
   "version": "3.7.4"
  },
  "toc": {
   "base_numbering": 1,
   "nav_menu": {},
   "number_sections": true,
   "sideBar": true,
   "skip_h1_title": false,
   "title_cell": "Table of Contents",
   "title_sidebar": "Contents",
   "toc_cell": false,
   "toc_position": {},
   "toc_section_display": true,
   "toc_window_display": false
  }
 },
 "nbformat": 4,
 "nbformat_minor": 2
}
